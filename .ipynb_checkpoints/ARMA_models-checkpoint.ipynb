{
 "cells": [
  {
   "cell_type": "markdown",
   "metadata": {},
   "source": [
    "# Overview of ARIMA models\n",
    "----------------------------------------------"
   ]
  },
  {
   "cell_type": "code",
   "execution_count": 1,
   "metadata": {
    "collapsed": true,
    "scrolled": true
   },
   "outputs": [],
   "source": [
    "%matplotlib inline\n",
    "import numpy as np\n",
    "import matplotlib.pyplot as plt\n",
    "import pandas as pd\n",
    "#import statsmodels as sm\n",
    "import scipy.stats as stats\n",
    "from scipy.ndimage.interpolation import shift\n",
    "import statsmodels.graphics.tsaplots as tsaplots\n",
    "import statsmodels.api as sm\n"
   ]
  },
  {
   "cell_type": "code",
   "execution_count": 2,
   "metadata": {
    "collapsed": true
   },
   "outputs": [],
   "source": [
    "from statsmodels.graphics.api import qqplot"
   ]
  },
  {
   "cell_type": "code",
   "execution_count": 3,
   "metadata": {
    "collapsed": false
   },
   "outputs": [
    {
     "data": {
      "text/plain": [
       "array([2, 3, 4, 5, 0])"
      ]
     },
     "execution_count": 3,
     "metadata": {},
     "output_type": "execute_result"
    }
   ],
   "source": [
    "xs=np.array([1,2,3,4,5])\n",
    "shift(xs,-1)"
   ]
  },
  {
   "cell_type": "markdown",
   "metadata": {},
   "source": [
    "Test para probar actualizacion de datos"
   ]
  },
  {
   "cell_type": "markdown",
   "metadata": {},
   "source": [
    "# AR-2 simulation\n",
    "\n",
    "$$r_{t}= \\phi_0+\\phi_1\\, r_{t-1} + \\phi_2\\, r_{t-2} +a_t,$$  donde $a_t:$ white noise\n"
   ]
  },
  {
   "cell_type": "code",
   "execution_count": 4,
   "metadata": {
    "collapsed": false,
    "scrolled": true
   },
   "outputs": [],
   "source": [
    "nstep = 1000\n",
    "paths = 5\n",
    "phi0 = 0\n",
    "phi1 = 0.2\n",
    "phi2 =  0.4\n",
    "rt = np.random.randn(nstep, paths)\n",
    "at = np.random.randn(nstep, paths)*0.2 # white noise\n",
    "sumt = np.zeros((nstep, paths))\n",
    "for i in range(nstep-2):\n",
    "    rt[i+2] = phi0 + phi1*rt[i+1] +phi2*rt[i] + at[i+2] \n",
    "    sumt[i+1] = sumt[i]+rt[i+2] \n",
    "#plt.plot(rt[:,1])\n"
   ]
  },
  {
   "cell_type": "code",
   "execution_count": 5,
   "metadata": {
    "collapsed": true
   },
   "outputs": [],
   "source": [
    "rtp = pd.DataFrame(rt)\n",
    "atp = pd.DataFrame(at)"
   ]
  },
  {
   "cell_type": "markdown",
   "metadata": {},
   "source": [
    "## Checking autocorrelation"
   ]
  },
  {
   "cell_type": "markdown",
   "metadata": {},
   "source": [
    "Time series rpt[]"
   ]
  },
  {
   "cell_type": "code",
   "execution_count": 6,
   "metadata": {
    "collapsed": true
   },
   "outputs": [],
   "source": [
    "autocorr = np.array([rtp[2].autocorr(lag=i) for i in range(10) ])"
   ]
  },
  {
   "cell_type": "code",
   "execution_count": 7,
   "metadata": {
    "collapsed": false
   },
   "outputs": [
    {
     "data": {
      "image/png": "[encoded data removed]",
      "text/plain": [
       "<matplotlib.figure.Figure at 0x267120e8eb8>"
      ]
     },
     "metadata": {},
     "output_type": "display_data"
    }
   ],
   "source": [
    "# Autocorrelation according to Pandas\n",
    "plt.figure(figsize=(16,3))\n",
    "plt.stem(autocorr, markerfmt=' ')\n",
    "plt.show()"
   ]
  },
  {
   "cell_type": "code",
   "execution_count": 8,
   "metadata": {
    "collapsed": false
   },
   "outputs": [
    {
     "data": {
      "text/plain": [
       "array([ 1.        ,  0.33499773,  0.49655176,  0.26486983,  0.28193202,\n",
       "        0.19832181,  0.17401668,  0.13043487,  0.07835775,  0.05551582,\n",
       "        0.03022262])"
      ]
     },
     "execution_count": 8,
     "metadata": {},
     "output_type": "execute_result"
    }
   ],
   "source": [
    "# Autocorrelation according to Statsmodels\n",
    "tsa = sm.tsa\n",
    "tsa.acf(rtp[2], nlags=10)"
   ]
  },
  {
   "cell_type": "raw",
   "metadata": {},
   "source": [
    "Durbin--Watson test https://bicorner.com/2015/11/16/time-series-analysis-using-ipython/?blogsub=confirming#subscribe-blog\n",
    "\n",
    "The Durbin-Watson statistic ranges in value from 0 to 4. A value near 2 indicates non-autocorrelation; a value toward 0 indicates positive autocorrelation; a value toward 4 indicates negative autocorrelation."
   ]
  },
  {
   "cell_type": "code",
   "execution_count": 84,
   "metadata": {
    "collapsed": false
   },
   "outputs": [
    {
     "data": {
      "text/plain": [
       "1.195950589073723"
      ]
     },
     "execution_count": 84,
     "metadata": {},
     "output_type": "execute_result"
    }
   ],
   "source": [
    "sm.stats.durbin_watson(rtp[2])"
   ]
  },
  {
   "cell_type": "markdown",
   "metadata": {},
   "source": [
    "Ljung--Box test"
   ]
  },
  {
   "cell_type": "code",
   "execution_count": 9,
   "metadata": {
    "collapsed": false
   },
   "outputs": [
    {
     "data": {
      "text/plain": [
       "(array([ 112.5604857 ,  360.11236354,  430.62022775,  510.58472261]),\n",
       " array([  2.69322112e-026,   6.34737015e-079,   5.15226229e-093,\n",
       "          3.44089861e-109]))"
      ]
     },
     "execution_count": 9,
     "metadata": {},
     "output_type": "execute_result"
    }
   ],
   "source": [
    "sm.stats.diagnostic.acorr_ljungbox(rtp[2], 4)"
   ]
  },
  {
   "cell_type": "code",
   "execution_count": 10,
   "metadata": {
    "collapsed": false
   },
   "outputs": [
    {
     "data": {
      "image/png": "[encoded data removed]",
      "text/plain": [
       "<matplotlib.figure.Figure at 0x26711c89278>"
      ]
     },
     "metadata": {},
     "output_type": "display_data"
    }
   ],
   "source": [
    "fig = plt.figure(figsize=(12,8))\n",
    "ax1 = fig.add_subplot(211)\n",
    "fig = tsaplots.plot_acf(rtp[2].squeeze(), lags=15, ax=ax1)\n",
    "ax2 = fig.add_subplot(212)\n",
    "fig = tsaplots.plot_pacf(rtp[2], lags=15, ax=ax2)"
   ]
  },
  {
   "cell_type": "markdown",
   "metadata": {},
   "source": [
    "# AR Model"
   ]
  },
  {
   "cell_type": "code",
   "execution_count": 24,
   "metadata": {
    "collapsed": false
   },
   "outputs": [
    {
     "data": {
      "text/html": [
       "<table class=\"simpletable\">\n",
       "<caption>ARMA Model Results</caption>\n",
       "<tr>\n",
       "  <th>Dep. Variable:</th>         <td>y</td>        <th>  No. Observations:  </th>   <td>1000</td>  \n",
       "</tr>\n",
       "<tr>\n",
       "  <th>Model:</th>            <td>ARMA(2, 0)</td>    <th>  Log Likelihood     </th>  <td>176.574</td>\n",
       "</tr>\n",
       "<tr>\n",
       "  <th>Method:</th>             <td>css-mle</td>     <th>  S.D. of innovations</th>   <td>0.203</td> \n",
       "</tr>\n",
       "<tr>\n",
       "  <th>Date:</th>          <td>Sun, 18 Sep 2016</td> <th>  AIC                </th> <td>-345.148</td>\n",
       "</tr>\n",
       "<tr>\n",
       "  <th>Time:</th>              <td>17:37:46</td>     <th>  BIC                </th> <td>-325.517</td>\n",
       "</tr>\n",
       "<tr>\n",
       "  <th>Sample:</th>                <td>0</td>        <th>  HQIC               </th> <td>-337.687</td>\n",
       "</tr>\n",
       "<tr>\n",
       "  <th></th>                       <td> </td>        <th>                     </th>     <td> </td>   \n",
       "</tr>\n",
       "</table>\n",
       "<table class=\"simpletable\">\n",
       "<tr>\n",
       "     <td></td>        <th>coef</th>     <th>std err</th>      <th>z</th>      <th>P>|z|</th> <th>[95.0% Conf. Int.]</th> \n",
       "</tr>\n",
       "<tr>\n",
       "  <th>const</th>   <td>    0.0134</td> <td>    0.018</td> <td>    0.747</td> <td> 0.455</td> <td>   -0.022     0.049</td>\n",
       "</tr>\n",
       "<tr>\n",
       "  <th>ar.L1.y</th> <td>    0.1936</td> <td>    0.029</td> <td>    6.713</td> <td> 0.000</td> <td>    0.137     0.250</td>\n",
       "</tr>\n",
       "<tr>\n",
       "  <th>ar.L2.y</th> <td>    0.4500</td> <td>    0.029</td> <td>   15.566</td> <td> 0.000</td> <td>    0.393     0.507</td>\n",
       "</tr>\n",
       "</table>\n",
       "<table class=\"simpletable\">\n",
       "<caption>Roots</caption>\n",
       "<tr>\n",
       "    <td></td>   <th>           Real</th> <th>         Imaginary</th> <th>         Modulus</th> <th>        Frequency</th>\n",
       "</tr>\n",
       "<tr>\n",
       "  <th>AR.1</th>               1.2910                    +0.0000j                    1.2910                    0.0000     \n",
       "</tr>\n",
       "<tr>\n",
       "  <th>AR.2</th>              -1.7214                    +0.0000j                    1.7214                    0.5000     \n",
       "</tr>\n",
       "</table>"
      ],
      "text/plain": [
       "<class 'statsmodels.iolib.summary.Summary'>\n",
       "\"\"\"\n",
       "                              ARMA Model Results                              \n",
       "==============================================================================\n",
       "Dep. Variable:                      y   No. Observations:                 1000\n",
       "Model:                     ARMA(2, 0)   Log Likelihood                 176.574\n",
       "Method:                       css-mle   S.D. of innovations              0.203\n",
       "Date:                Sun, 18 Sep 2016   AIC                           -345.148\n",
       "Time:                        17:37:46   BIC                           -325.517\n",
       "Sample:                             0   HQIC                          -337.687\n",
       "                                                                              \n",
       "==============================================================================\n",
       "                 coef    std err          z      P>|z|      [95.0% Conf. Int.]\n",
       "------------------------------------------------------------------------------\n",
       "const          0.0134      0.018      0.747      0.455        -0.022     0.049\n",
       "ar.L1.y        0.1936      0.029      6.713      0.000         0.137     0.250\n",
       "ar.L2.y        0.4500      0.029     15.566      0.000         0.393     0.507\n",
       "                                    Roots                                    \n",
       "=============================================================================\n",
       "                 Real           Imaginary           Modulus         Frequency\n",
       "-----------------------------------------------------------------------------\n",
       "AR.1            1.2910           +0.0000j            1.2910            0.0000\n",
       "AR.2           -1.7214           +0.0000j            1.7214            0.5000\n",
       "-----------------------------------------------------------------------------\n",
       "\"\"\""
      ]
     },
     "execution_count": 24,
     "metadata": {},
     "output_type": "execute_result"
    }
   ],
   "source": [
    "#linear regression\n",
    "AR2 = sm.tsa.ARMA(rt[:,2], (2,0)).fit()\n",
    "AR2.summary()"
   ]
  },
  {
   "cell_type": "markdown",
   "metadata": {},
   "source": [
    "## Analyzing the Residuals"
   ]
  },
  {
   "cell_type": "code",
   "execution_count": 25,
   "metadata": {
    "collapsed": false
   },
   "outputs": [
    {
     "data": {
      "text/plain": [
       "[<matplotlib.lines.Line2D at 0x2671294eb38>]"
      ]
     },
     "execution_count": 25,
     "metadata": {},
     "output_type": "execute_result"
    },
    {
     "data": {
      "image/png": "[encoded data removed]",
      "text/plain": [
       "<matplotlib.figure.Figure at 0x267128edfd0>"
      ]
     },
     "metadata": {},
     "output_type": "display_data"
    }
   ],
   "source": [
    "residuals = AR2.resid\n",
    "plt.plot(residuals)"
   ]
  },
  {
   "cell_type": "code",
   "execution_count": 17,
   "metadata": {
    "collapsed": false
   },
   "outputs": [
    {
     "data": {
      "text/plain": [
       "(NormaltestResult(statistic=59.742520188143828, pvalue=1.0643306616324056e-13),\n",
       " (array([ 0.7845875 ,  1.90467605,  1.91306772,  1.91554194,  2.66623948,\n",
       "          3.27836244,  4.14706606,  4.60708676,  4.60898299,  4.61548819]),\n",
       "  array([ 0.37574178,  0.38583787,  0.59064437,  0.75128936,  0.75127692,\n",
       "          0.77318524,  0.76269107,  0.79862626,  0.86697648,  0.91534139])))"
      ]
     },
     "execution_count": 17,
     "metadata": {},
     "output_type": "execute_result"
    }
   ],
   "source": [
    "# small p-values indicates that the data is not normally distributed\n",
    "stats.normaltest(residuals), sm.stats.diagnostic.acorr_ljungbox(residuals, 10)"
   ]
  },
  {
   "cell_type": "code",
   "execution_count": 49,
   "metadata": {
    "collapsed": false
   },
   "outputs": [
    {
     "data": {
      "image/png": "[encoded data removed]",
      "text/plain": [
       "<matplotlib.figure.Figure at 0x267129e8438>"
      ]
     },
     "metadata": {},
     "output_type": "display_data"
    }
   ],
   "source": [
    "fig = plt.figure(figsize=(12,8))\n",
    "ax = fig.add_subplot(111)\n",
    "fig = qqplot(residuals, line='q', ax=ax, fit=True)\n",
    "#contra que se están comparando los residuos aquí? una distribución normal? si es así los resultados contradicen el\n",
    "#normal test anterior. El jungbox no descarta que sea ruido blanco. me da desconfianza el normal test. "
   ]
  },
  {
   "cell_type": "code",
   "execution_count": 26,
   "metadata": {
    "collapsed": false
   },
   "outputs": [
    {
     "data": {
      "image/png": "[encoded data removed]",
      "text/plain": [
       "<matplotlib.figure.Figure at 0x26712926470>"
      ]
     },
     "metadata": {},
     "output_type": "display_data"
    }
   ],
   "source": [
    "fig = plt.figure(figsize=(12,8))\n",
    "ax1 = fig.add_subplot(211)\n",
    "fig = tsaplots.plot_acf(residuals, lags=12, ax=ax1)\n",
    "ax2 = fig.add_subplot(212)\n",
    "fig = tsaplots.plot_pacf(residuals, lags=12, ax=ax2)"
   ]
  },
  {
   "cell_type": "code",
   "execution_count": 157,
   "metadata": {
    "collapsed": false
   },
   "outputs": [
    {
     "name": "stdout",
     "output_type": "stream",
     "text": [
      "            AC          Q  Prob(>Q)\n",
      "lag                                \n",
      "1.0  -0.017913   1.014751  0.602074\n",
      "2.0  -0.026270   1.228553  0.746165\n",
      "3.0   0.014585   1.912935  0.751768\n",
      "4.0   0.026082   4.192762  0.522010\n",
      "5.0   0.047580   4.575412  0.599302\n",
      "6.0   0.019483   4.636772  0.704191\n",
      "7.0  -0.007798   4.636785  0.795597\n",
      "8.0  -0.000115   5.066116  0.828507\n",
      "9.0  -0.020606   5.744272  0.836271\n",
      "10.0  0.025885   5.815920  0.885360\n",
      "11.0  0.008409  13.857385  0.309908\n",
      "12.0 -0.089046  16.894153  0.204188\n",
      "13.0 -0.054693  18.471498  0.186142\n",
      "14.0 -0.039397  18.928294  0.217002\n"
     ]
    }
   ],
   "source": [
    "# Notice that the p-values for the Ljung–Box Q test above .05 \n",
    "# indicate “significance.” This is not a desirable result. \n",
    "\n",
    "r,q,p = sm.tsa.acf(residuals, qstat=True)\n",
    "nlags = 15\n",
    "data = np.c_[range(1,nlags), r[1:nlags], q[1:nlags], p[1:nlags]]\n",
    "table = pd.DataFrame(data, columns=['lag', \"AC\", \"Q\", \"Prob(>Q)\"])\n",
    "print table.set_index('lag')"
   ]
  },
  {
   "cell_type": "markdown",
   "metadata": {},
   "source": [
    "## Predictions"
   ]
  },
  {
   "cell_type": "code",
   "execution_count": 45,
   "metadata": {
    "collapsed": false
   },
   "outputs": [],
   "source": [
    "ini, fin = 3, 50\n",
    "reference = range(ini, fin+1)\n",
    "predictions = AR2.predict(ini, fin, dynamic=False)\n",
    "#print predictions"
   ]
  },
  {
   "cell_type": "code",
   "execution_count": 28,
   "metadata": {
    "collapsed": false
   },
   "outputs": [
    {
     "data": {
      "image/png": "[encoded data removed]",
      "text/plain": [
       "<matplotlib.figure.Figure at 0x26712067c50>"
      ]
     },
     "metadata": {},
     "output_type": "display_data"
    }
   ],
   "source": [
    "#ax =range(2,5).plot(figsize=(12,8))\n",
    "plt.plot( reference, predictions);\n",
    "plt.plot( reference, rt[ini:fin+1,2],'r--' );\n",
    "#ax.legend();\n",
    "#ax.axis((-20.0, 38.0, -4.0, 200.0));"
   ]
  },
  {
   "cell_type": "code",
   "execution_count": 35,
   "metadata": {
    "collapsed": false
   },
   "outputs": [
    {
     "name": "stdout",
     "output_type": "stream",
     "text": [
      "[ 0.01339848  0.19364705  0.44997371]\n"
     ]
    }
   ],
   "source": [
    "pm = AR2.params\n",
    "td= rt[0:3,2]\n",
    "print(pm)\n",
    "def pred(x,y):\n",
    "    return pm[0]+ pm[1]*y+ pm[2]*x  "
   ]
  },
  {
   "cell_type": "code",
   "execution_count": 48,
   "metadata": {
    "collapsed": false
   },
   "outputs": [
    {
     "data": {
      "text/plain": [
       "48"
      ]
     },
     "execution_count": 48,
     "metadata": {},
     "output_type": "execute_result"
    },
    {
     "data": {
      "image/png": "[encoded data removed]",
      "text/plain": [
       "<matplotlib.figure.Figure at 0x267129ce6d8>"
      ]
     },
     "metadata": {},
     "output_type": "display_data"
    }
   ],
   "source": [
    "#difieren un poco las gráficas, no sé exactamente que hace el predict de statsmodels\n",
    "plt.plot( reference, predictions);\n",
    "prd = pred(rt[ini-2:fin-1,2],np.roll(rt[ini-2:fin-1,2],-1));\n",
    "plt.plot(reference, prd)\n",
    "len(prd)"
   ]
  },
  {
   "cell_type": "code",
   "execution_count": 115,
   "metadata": {
    "collapsed": false
   },
   "outputs": [
    {
     "name": "stdout",
     "output_type": "stream",
     "text": [
      "[-0.74941376  0.1102569  -0.41827977]\n"
     ]
    }
   ],
   "source": [
    "print td"
   ]
  },
  {
   "cell_type": "code",
   "execution_count": 34,
   "metadata": {
    "collapsed": false
   },
   "outputs": [
    {
     "data": {
      "text/plain": [
       "(0.32329257776435538,\n",
       " array([  7.13109784e-01,   3.14669039e-01,   4.54166568e-01,\n",
       "          4.00404013e-01,   5.52100646e-01,   2.47541168e-01,\n",
       "          3.24462091e-01,   2.65256443e-01,   1.68302506e-01,\n",
       "          2.09196097e-01,   1.69488043e-01,   1.49940658e-01,\n",
       "         -2.56479527e-02,   7.69012727e-02,   1.94695962e-01,\n",
       "          1.27501164e-01,   6.36593104e-02,   1.30750569e-01,\n",
       "          1.04568058e-01,  -1.06440344e-02,   7.24592210e-02,\n",
       "          4.18141725e-02,   1.33752946e-01,   2.69376998e-01,\n",
       "          2.96704538e-01,  -7.05380247e-02,   8.94673121e-02,\n",
       "         -1.41143668e-02,   7.91503801e-02,   1.18520776e-01,\n",
       "          9.91739964e-02,  -2.27057541e-02,  -4.70771028e-02,\n",
       "          5.16481051e-02,   4.22238183e-03,   3.79111952e-02,\n",
       "         -1.76090035e-01,   1.05587445e-02,  -8.23132166e-02,\n",
       "          4.68565194e-02,   2.65242542e-02,  -7.43674901e-02,\n",
       "         -1.40056828e-01,  -7.16118944e-02,  -1.92655950e-01,\n",
       "         -1.70631715e-01,  -1.80680803e-01,  -2.52457908e-01,\n",
       "         -8.72080029e-02,  -2.91961470e-02,  -2.16497137e-02,\n",
       "          1.84828884e-02,   4.67885508e-02,  -3.72768567e-02,\n",
       "         -1.63377168e-01,   8.21435924e-02,  -2.25672815e-02,\n",
       "          5.84005555e-02,   1.25929991e-01,   1.77880544e-01,\n",
       "          9.30956478e-03,   9.08334067e-02,  -9.84464756e-03,\n",
       "         -6.82619138e-02,  -1.90167378e-01,  -1.03771653e-01,\n",
       "         -6.65469387e-02,   5.70743237e-02,   3.15076716e-02,\n",
       "         -6.51296983e-02,  -3.99858231e-02,  -9.23682963e-02,\n",
       "         -1.35315031e-01,  -2.52887461e-01,  -1.81274941e-01,\n",
       "         -1.66428238e-01,  -2.35978746e-02,  -1.41027183e-02,\n",
       "         -6.13594616e-02,  -5.50049245e-02,  -4.66276721e-02,\n",
       "         -1.32167944e-02,   1.90932919e-02,   1.71794850e-01,\n",
       "          1.55833995e-01,   1.32042262e-01,   6.08829018e-02,\n",
       "          4.77582057e-02,   6.70210818e-02,  -6.01725245e-02,\n",
       "          2.83100396e-02,  -2.70350108e-02,  -1.76667347e-02,\n",
       "         -1.57076367e-01,  -2.50699874e-02,  -8.78431448e-02,\n",
       "         -1.61048050e-01,  -4.27173691e-02,  -8.16189447e-03,\n",
       "         -2.49873122e-01,  -2.46447495e-01,  -2.87526296e-01,\n",
       "         -2.36255563e-01,  -1.35662481e-01,  -7.26084029e-03,\n",
       "         -5.22035100e-02,   4.69223610e-02,   1.57749506e-01,\n",
       "         -4.21338026e-02,   1.76946597e-01,   2.33407898e-01,\n",
       "          2.80703768e-01,   1.29932609e-01,   5.54716460e-02,\n",
       "          2.25972657e-02,  -1.47282341e-01,  -1.67472583e-01,\n",
       "         -1.07670052e-01,   6.94525553e-02,   1.85421948e-01,\n",
       "          2.14784772e-02,   3.92163316e-02,  -5.57908928e-02,\n",
       "         -1.18091623e-01,  -2.18296248e-01,  -7.83758991e-02,\n",
       "          6.84498881e-02,  -6.33685417e-02,   6.51952020e-02,\n",
       "          4.19268685e-02,   1.55565955e-01,  -4.08758914e-02,\n",
       "         -1.49542194e-01,  -1.91527205e-01,  -8.27898793e-02,\n",
       "          7.92414698e-02,  -1.15359783e-01,  -3.10357241e-01,\n",
       "         -2.59132128e-01,  -3.27909990e-01,  -1.00268402e-01,\n",
       "         -8.98417360e-02,   2.25611319e-02,  -5.74341471e-02,\n",
       "         -8.63333195e-02,   1.07250024e-01,   3.64135068e-02,\n",
       "          1.41287500e-01,  -6.80643035e-02,   6.76839212e-02,\n",
       "          1.48529894e-01,   1.83110471e-01,   2.08436280e-01,\n",
       "          2.03679051e-01,   1.64976847e-01,   3.07241714e-01,\n",
       "          2.47701101e-01,   1.76557474e-01,   1.70600962e-01,\n",
       "          2.03563167e-01,   1.91627870e-01,   1.69572823e-01,\n",
       "          2.12476232e-01,   2.29050416e-01,   6.87500494e-02,\n",
       "          2.14905793e-02,  -1.20091068e-01,   2.73909139e-02,\n",
       "         -3.57268066e-02,  -1.17250315e-01,  -8.20225551e-02,\n",
       "         -3.74778342e-02,  -4.43165777e-03,   8.65002531e-02,\n",
       "          9.38723083e-02,   8.58108208e-02,   4.39454837e-02,\n",
       "         -8.29852458e-02,  -1.49995893e-01,  -5.09139611e-02,\n",
       "          5.16223759e-02,   1.57598870e-01,   1.53702820e-01,\n",
       "          3.59329745e-02,   8.57021761e-02,  -1.33221734e-02,\n",
       "          8.27521548e-02,   1.45804688e-01,   1.73164445e-01,\n",
       "          1.67074556e-01,   8.12843882e-02,   1.07292064e-01,\n",
       "          1.65488438e-02,   1.23829928e-02,   2.50427865e-02,\n",
       "         -1.16134047e-01,  -3.57646852e-01,  -3.56488935e-01,\n",
       "         -1.41007025e-01,  -1.24072414e-01,   1.27362059e-01,\n",
       "         -5.87498924e-02,  -1.50520916e-01,   2.42744179e-02,\n",
       "         -2.70745738e-02,  -1.13688756e-01,   1.20238003e-01,\n",
       "         -1.60930162e-02,   5.07232517e-02,   2.02891228e-01,\n",
       "          9.95844870e-02,   8.59899105e-02,   9.10346874e-02,\n",
       "         -2.37532217e-02,   1.58781867e-01,  -9.95931842e-03,\n",
       "          7.66583293e-02,   5.60795185e-02,  -3.87820791e-02,\n",
       "         -4.77133466e-02,  -1.94214159e-02,   6.74779534e-03,\n",
       "          3.35018625e-02,  -3.48413415e-02,  -2.54032012e-02,\n",
       "          4.95202531e-02,   7.88652946e-02,   3.72468587e-02,\n",
       "          2.78294054e-01,   2.32247188e-01,   2.87992252e-01,\n",
       "          2.28344438e-01,   2.25549639e-01,   2.42357725e-01,\n",
       "          3.08393716e-01,   9.71101021e-02,   1.91586809e-01,\n",
       "          1.91429133e-01,   1.01507450e-01,   2.51793947e-02,\n",
       "          6.61729182e-02,   5.44329581e-03,  -3.48141993e-02,\n",
       "         -1.19905960e-01,  -4.77000901e-03,  -1.37961187e-01,\n",
       "         -1.44554063e-02,  -3.34929059e-02,   1.57680373e-01,\n",
       "          1.17678925e-01,   5.23008677e-02,   8.63870727e-02,\n",
       "          1.04285303e-01,   2.74579074e-01,   3.12409634e-01,\n",
       "          2.25259841e-01,   1.90564371e-01,   8.69593310e-02,\n",
       "          4.23278654e-02,   6.81992416e-04,   1.91983369e-01,\n",
       "          9.89687031e-02,  -1.08719831e-01,  -1.53633628e-01,\n",
       "         -1.04282022e-02,  -1.85815433e-01,  -7.21024049e-02,\n",
       "         -1.16339399e-01,  -1.75885596e-01,  -4.42406166e-02,\n",
       "         -5.42559179e-02,  -1.16195149e-01,  -1.64276113e-01,\n",
       "         -2.12549932e-01,  -4.15943826e-02,  -4.71137935e-04,\n",
       "         -8.34698647e-02,  -1.51734431e-01,  -2.02405202e-01,\n",
       "         -1.82749012e-01,  -1.52523588e-01,  -1.23929327e-01,\n",
       "         -1.71149083e-01,   7.00043144e-03,   8.04951373e-02,\n",
       "          1.49665824e-01,   9.24734396e-02,   1.37528757e-01,\n",
       "          8.83623249e-03,  -6.49192825e-02,   2.85204547e-02,\n",
       "         -1.34249862e-01,  -7.08296569e-02,   6.73808045e-02,\n",
       "         -5.39171451e-02,  -1.38796908e-01,  -1.56278111e-01,\n",
       "         -2.49321049e-02,   1.54157253e-01,  -4.12532864e-02,\n",
       "         -1.47964524e-02,   7.15413250e-02,  -2.05560540e-02,\n",
       "          1.42079203e-01,   8.10206163e-02,   7.17329495e-02,\n",
       "          1.39478999e-01,   9.87412866e-03,   1.97637922e-01,\n",
       "          1.97647379e-01,   2.28827475e-01,   1.46077119e-01,\n",
       "          1.98286168e-01,   1.82414551e-01,   4.19098933e-02,\n",
       "         -7.45007984e-02,  -7.27429169e-02,  -1.06762598e-01,\n",
       "          2.46483513e-02,  -7.81458993e-03,   1.46680655e-01,\n",
       "          1.97104821e-01,   2.14346389e-01,   2.09391475e-01,\n",
       "          1.54550959e-01,   4.19310689e-02,  -1.76839980e-02,\n",
       "         -3.47404769e-03,  -7.47314542e-03,   1.84474039e-02,\n",
       "          1.76806884e-01,  -4.65002891e-02,  -4.66454007e-02,\n",
       "          1.41313981e-02,  -1.35102041e-02,  -5.48713068e-02,\n",
       "          3.52820168e-02,   3.07156465e-02,   1.25677107e-01,\n",
       "         -2.90304255e-02,  -1.27782111e-01,  -6.59066694e-02,\n",
       "          2.96224186e-02,  -4.92648244e-02,   2.37976719e-03,\n",
       "         -2.90988807e-02,  -1.55535120e-01,  -1.14793680e-02,\n",
       "         -5.70661721e-02,  -9.16712115e-02,  -1.25444329e-03,\n",
       "          1.77251917e-02,   2.60077016e-01,   1.36292041e-01,\n",
       "          1.11541869e-01,   5.87946231e-02,  -1.67391888e-02,\n",
       "         -9.18861376e-02,   1.38427230e-01,   1.67358732e-01,\n",
       "          1.12854909e-01,  -5.92137383e-02,  -8.16133652e-02,\n",
       "         -1.98962337e-01,  -1.13775799e-01,  -1.05164207e-01,\n",
       "          1.28412893e-01,   7.47460689e-03,  -2.59500451e-02,\n",
       "          5.02912115e-02,   1.85728017e-02,  -5.42831595e-03,\n",
       "          3.63578675e-03,  -6.58566906e-02,  -4.49645591e-02,\n",
       "         -1.28680805e-01,  -9.11078855e-02,  -1.95746864e-01,\n",
       "         -3.16363903e-01,  -2.45154307e-01,  -1.55424807e-01,\n",
       "         -5.57290165e-02,  -1.52131375e-01,  -4.43863473e-02,\n",
       "          7.47891067e-02,  -2.63173710e-02,  -1.25828527e-01,\n",
       "         -2.29783619e-01,  -2.46598519e-01,  -4.31939361e-01,\n",
       "         -2.31183722e-01,  -3.87832680e-01,  -1.35776865e-01,\n",
       "         -1.98278644e-01,  -1.13978695e-01,  -4.57165040e-02,\n",
       "         -5.72992403e-02,  -6.80404437e-02,   9.41401631e-03,\n",
       "          1.18736946e-01,   1.66706164e-01,   2.89584165e-01,\n",
       "          2.04617122e-01,   1.25664294e-01,   2.97899623e-02,\n",
       "          1.16814325e-01,   1.33320498e-01,   8.43300365e-02,\n",
       "          7.56190387e-02,   8.56200778e-02,  -3.76829886e-02,\n",
       "          1.62075758e-02,  -2.52820539e-01,  -6.55113142e-02,\n",
       "         -9.67856112e-02,   7.35166199e-02,  -8.19704681e-02,\n",
       "         -8.59899978e-02,  -1.08707978e-01,  -8.69774292e-03,\n",
       "          2.32056096e-02,   1.33598976e-01,   3.36337831e-02,\n",
       "         -7.31218612e-03,   1.49873886e-02,   1.12069769e-01,\n",
       "         -3.67702990e-02,  -2.06788860e-02,   2.92842845e-02,\n",
       "          2.92510052e-02,   8.70948195e-02,  -3.36101345e-02,\n",
       "         -2.10070555e-01,  -1.50190412e-01,  -6.91062748e-02,\n",
       "          8.99977376e-03,  -2.02445847e-02,  -2.29304527e-01,\n",
       "         -1.15865072e-01,  -2.85580504e-01,  -2.74583239e-01,\n",
       "         -4.95389346e-02,  -1.19676831e-01,  -1.33175054e-01,\n",
       "         -5.89079372e-02,  -1.95131542e-02,  -3.51162414e-02,\n",
       "          1.60402005e-02,  -4.17222046e-02,  -2.46975240e-01,\n",
       "         -1.48164281e-01,  -7.64955526e-02,  -1.61479773e-01,\n",
       "         -5.79707941e-02,  -1.05343362e-01,   3.14478178e-03,\n",
       "         -1.53016638e-01,   3.48602667e-03,   2.42007191e-02,\n",
       "         -2.64473282e-02,   9.30330852e-02,   8.45238311e-02,\n",
       "          5.39164687e-02,   1.04799991e-01,  -1.77151023e-02,\n",
       "          1.00253188e-01,   1.51288578e-01,   2.12419015e-01,\n",
       "          2.60457340e-01,   1.54882333e-01,   6.20307330e-02,\n",
       "          1.15037089e-01,   4.26153000e-03,   1.35415335e-01,\n",
       "          2.04310431e-01,   2.00094376e-01,   1.59577623e-01,\n",
       "          1.18485293e-01,  -3.67825669e-02,  -6.60721772e-02,\n",
       "         -4.49501786e-02,  -1.15676869e-01,  -1.85937075e-01,\n",
       "         -5.19312266e-02,   2.36761666e-01,   1.79678165e-01,\n",
       "          5.41993770e-02,   1.70239305e-01,   1.93918690e-01,\n",
       "          7.86787130e-02,   6.15912321e-02,  -1.27550921e-01,\n",
       "         -7.50907190e-02,  -1.80396797e-01,  -1.41442977e-01,\n",
       "         -5.74274948e-02,  -2.42037908e-01,  -1.68570460e-01,\n",
       "         -1.48129629e-01,  -2.91921973e-01,  -2.43346144e-01,\n",
       "         -2.66303995e-01,  -2.80762698e-02,  -1.92426300e-01,\n",
       "         -1.89852735e-01,  -2.04856581e-01,  -2.79112188e-01,\n",
       "         -2.28601850e-01,  -2.01099719e-01,  -2.94818943e-01,\n",
       "         -1.23668346e-01,  -1.59369846e-01,  -1.50762921e-01,\n",
       "         -1.24431273e-01,  -1.07473335e-01,  -1.48827283e-01,\n",
       "         -1.94458634e-01,  -1.29786976e-01,  -6.26952917e-02,\n",
       "         -6.54463618e-02,  -1.27469558e-01,  -1.45040555e-01,\n",
       "         -1.32456913e-01,   8.50531893e-02,   1.03505380e-01,\n",
       "          1.02253481e-01,   1.32559277e-01,   1.93571463e-01,\n",
       "          2.65403201e-01,   2.24965231e-01,   3.90893556e-02,\n",
       "          4.78196869e-02,  -4.51915499e-02,  -1.69339547e-02,\n",
       "         -1.81453327e-01,  -1.00618813e-01,  -1.33709029e-01,\n",
       "         -5.02192807e-02,  -2.64820317e-02,  -3.33098919e-02,\n",
       "         -1.62008824e-01,  -4.92566448e-02,   5.00546491e-02,\n",
       "         -7.31892841e-02,   3.25268377e-02,   1.21436939e-02,\n",
       "          1.25546960e-01,   6.70556244e-02,  -4.33785774e-02,\n",
       "         -1.32051159e-01,  -3.73483537e-02,   3.60531669e-02,\n",
       "          4.93099527e-02,   3.86363160e-02,   1.02464568e-01,\n",
       "          8.56877930e-02,   8.86171520e-03,  -6.45210513e-02,\n",
       "          1.30738802e-01,  -2.16645648e-02,   8.55633156e-02,\n",
       "          1.02922571e-01,   7.39055275e-02,   1.47187866e-01,\n",
       "          6.25096287e-02,   2.09805933e-02,  -1.18899019e-01,\n",
       "          6.72008912e-02,   5.40185100e-02,   2.15068666e-01,\n",
       "          1.87076930e-01,   3.48105336e-03,  -1.63029801e-02,\n",
       "          2.59324232e-02,  -2.67305867e-02,  -7.73938059e-02,\n",
       "         -7.95737050e-02,  -8.88622981e-03,  -8.23296718e-02,\n",
       "         -1.78375256e-01,  -7.89594072e-02,  -7.78602925e-02,\n",
       "         -2.16776979e-01,  -6.35865597e-02,  -3.14534132e-02,\n",
       "          2.83522785e-02,   6.85119154e-02,   6.60867786e-02,\n",
       "          4.19987826e-02,   1.73422261e-02,   1.65061187e-01,\n",
       "          6.53014686e-02,   2.13009789e-01,   5.51375808e-02,\n",
       "         -2.81103904e-02,   6.10172495e-02,  -1.33369912e-02,\n",
       "         -4.95837678e-02,  -6.77844921e-02,   9.44242225e-02,\n",
       "          4.55869817e-02,   5.78741803e-02,   1.98730636e-01,\n",
       "          7.29429618e-02,   9.40688540e-02,   2.85489098e-02,\n",
       "          1.85970237e-02,  -8.96925452e-02,  -1.05474205e-01,\n",
       "          7.56873066e-03,  -9.10411444e-02,  -1.47008460e-01,\n",
       "         -3.22836372e-02,  -6.13126564e-03,  -4.11698544e-02,\n",
       "         -4.24917529e-02,   1.27010120e-02,  -2.68382790e-02,\n",
       "          1.11729737e-01,   2.20987791e-01,   8.52497175e-02,\n",
       "          2.59348587e-01,   1.78065942e-01,   1.12099777e-01,\n",
       "          2.69034023e-01,   2.37974512e-01,   1.74452379e-01,\n",
       "          2.63975308e-01,   1.86911987e-01,   1.47785455e-01,\n",
       "          1.30773434e-01,   1.26478212e-01,   9.01262593e-02,\n",
       "          1.58822041e-01,   1.80986611e-01,   1.08900999e-01,\n",
       "          3.65267286e-03,  -1.26627427e-02,   6.89483184e-02,\n",
       "         -1.32373203e-01,  -2.86727052e-02,   1.05198558e-01,\n",
       "         -1.10762367e-01,  -1.85150513e-01,  -1.22984755e-01,\n",
       "         -5.76255653e-02,   4.62930328e-03,   1.16831924e-01,\n",
       "         -9.33918707e-02,  -1.21246754e-01,  -8.48258409e-02,\n",
       "          6.35997955e-02,  -8.22890956e-02,   4.15103592e-02,\n",
       "          6.40424545e-03,  -5.09176865e-03,   3.60803897e-02,\n",
       "          7.29225335e-02,   1.39749409e-01,   1.69290065e-01,\n",
       "          1.06194421e-01,   2.11390740e-01,   2.02906339e-01,\n",
       "          1.57086889e-01,   1.13847245e-01,  -2.10856707e-02,\n",
       "          7.37827942e-02,   1.38364788e-02,   7.16770220e-02,\n",
       "          3.82358094e-02,   4.96516539e-03,  -2.15799493e-02,\n",
       "         -1.07284773e-01,   7.30234430e-02,   1.57703575e-01,\n",
       "          1.42221625e-01,   1.54983648e-01,   1.24584674e-01,\n",
       "          2.34873593e-01,   1.75442070e-01,   2.13760152e-01,\n",
       "          8.74317819e-02,   9.07445423e-03,   5.32068965e-02,\n",
       "          3.59420162e-02,   3.59717624e-02,   6.29699481e-02,\n",
       "          1.61886972e-01,   1.91303477e-01,   1.01974220e-01,\n",
       "          1.16746372e-01,  -3.97984670e-02,  -7.00435509e-02,\n",
       "         -1.13591751e-02,  -6.57377682e-02,  -2.66946233e-01,\n",
       "         -3.25715113e-01,  -2.37381459e-01,  -7.26078735e-02,\n",
       "         -1.04184008e-01,  -4.83535825e-02,  -1.62692192e-01,\n",
       "         -2.17185416e-02,   5.62619259e-02,   1.18168559e-01,\n",
       "          1.05840091e-01,   1.06804364e-01,   5.71231018e-02,\n",
       "         -6.01814600e-02,  -5.05902869e-02,   5.37956602e-02,\n",
       "          1.33815029e-01,  -3.80053902e-02,   4.22396080e-02,\n",
       "          1.75853469e-02,  -6.28271481e-02,  -2.37683350e-01,\n",
       "         -1.53171634e-01,  -1.41852698e-01,   7.93941317e-02,\n",
       "         -5.89665974e-02,   1.78385571e-02,   1.15620383e-01,\n",
       "          3.23052466e-01,   3.17575934e-01,   2.22009278e-01,\n",
       "          2.64108974e-01,   1.10131870e-01,   7.84308172e-02,\n",
       "         -2.52406283e-02,   2.00743007e-01,   1.49152313e-01,\n",
       "          4.15967655e-02,   4.34468196e-02,   9.28728932e-02,\n",
       "          1.14675280e-01,   9.68417112e-03,  -5.07991108e-03,\n",
       "          8.43308328e-02,   6.37088269e-02,   5.18938726e-02,\n",
       "          4.67451936e-02,   6.58896469e-03,   8.57356534e-02,\n",
       "          8.57066915e-02,  -5.37553934e-02,   3.66668905e-02,\n",
       "          8.78876137e-02,   1.19392625e-01,   1.05749508e-01,\n",
       "         -1.73165582e-02,   9.62799919e-02,   1.66593192e-01,\n",
       "          1.38209177e-02,   3.73178343e-02,  -1.18057451e-01,\n",
       "         -2.38577614e-02,   8.87284032e-03,   2.05492252e-02,\n",
       "          7.27616680e-02,   2.72596670e-03,   6.57523729e-02,\n",
       "         -3.12265414e-02,   1.37146572e-01,   5.44171229e-02,\n",
       "          1.17410339e-01,   1.22458116e-01,  -2.21537214e-02,\n",
       "          6.57403798e-02,  -2.15008997e-02,  -1.37752186e-03,\n",
       "          5.99024823e-02,   1.24557429e-01,   4.59089939e-02,\n",
       "         -5.39092763e-02,  -1.05366946e-01,  -2.09351681e-03,\n",
       "          1.13533367e-01,   2.43357107e-02,   5.11192934e-02,\n",
       "          5.64017365e-02,   1.12707473e-01,   1.74696638e-01,\n",
       "          1.52725344e-01,   2.00591411e-01,   3.17809820e-02,\n",
       "          1.14835206e-01,  -2.27127671e-02,  -5.75318454e-02,\n",
       "         -2.22812078e-02,  -9.63857594e-02,  -1.13899788e-01,\n",
       "         -7.99348656e-02,  -2.03880379e-01,  -7.38046903e-02,\n",
       "         -5.55510424e-02,  -1.19469025e-01,  -2.99919408e-02,\n",
       "         -1.56499500e-01,  -1.12761723e-02,   1.18813912e-02,\n",
       "          7.72437645e-02,   1.82676697e-01,   2.87333706e-01,\n",
       "          1.85372426e-01,  -1.58431994e-02,   8.13468325e-02,\n",
       "         -1.40371113e-01,  -6.58101132e-02,  -1.40893627e-01,\n",
       "          8.22161550e-02,   5.25067107e-03,   3.12559420e-02,\n",
       "          5.98239081e-04,   3.58377810e-02,   8.04260856e-02,\n",
       "          4.40784943e-03,   8.28323616e-02,   2.43925185e-02,\n",
       "          1.93412870e-01,   1.49017423e-01,   4.50163706e-02,\n",
       "          1.10212376e-01,   4.49524812e-02,  -4.69715633e-03,\n",
       "         -4.37619531e-02,  -2.88383733e-03,  -1.51077938e-02,\n",
       "         -3.13521221e-02,  -9.77910322e-02,   7.72608827e-03,\n",
       "          1.50643690e-02,  -2.32477007e-02,  -7.11582499e-03,\n",
       "         -1.00417061e-01,  -1.19882905e-01,  -2.37720514e-01,\n",
       "         -3.67265470e-02,  -4.16127733e-02,  -7.66847732e-02,\n",
       "         -2.35485918e-01,  -1.77248764e-02,  -8.98258963e-02,\n",
       "         -5.27698012e-02,  -2.80541086e-01,  -3.27829920e-01,\n",
       "         -3.04922632e-01,  -2.54725506e-01,  -1.14325380e-01,\n",
       "         -7.85211276e-02,  -9.60346318e-02,  -7.81844113e-02,\n",
       "         -2.60055117e-02,  -3.18144609e-02,   3.92992137e-02,\n",
       "          1.58524831e-01,   2.19198675e-01,   1.32266202e-01,\n",
       "          1.01276310e-01,   1.41317735e-01,   8.03422559e-02,\n",
       "          2.09137748e-01,   1.00403279e-01,   1.08998203e-01,\n",
       "         -5.79718201e-02,   1.60600007e-01,   4.37911828e-02,\n",
       "          1.35393176e-01,   1.45795472e-01,   1.61412592e-01,\n",
       "          9.89904127e-02,   9.39153583e-02,   1.36122279e-02,\n",
       "          2.33029403e-01,   2.23897607e-01,   1.89275253e-01,\n",
       "          1.12912600e-01,   7.42620954e-02,   2.87290212e-02,\n",
       "          2.38676993e-02,   1.32854233e-01,   8.08219933e-02,\n",
       "          1.26690123e-01,   4.49293208e-02,   3.80842447e-02,\n",
       "         -8.78640553e-02,  -1.64595650e-01,  -1.46626036e-01,\n",
       "         -2.41756760e-02,  -1.05697078e-01,   1.03226984e-01,\n",
       "         -2.06868573e-02,   1.42544018e-01,   1.73955898e-01,\n",
       "          2.23981557e-01,   1.39604469e-01,   9.15591374e-02,\n",
       "          1.46775232e-02,  -2.86090364e-02,   2.69710311e-02,\n",
       "          1.59154188e-01,   7.14314427e-02,  -5.29105569e-02,\n",
       "         -1.14237554e-01,  -1.51484927e-01,   1.82995579e-02,\n",
       "         -7.10518665e-02,   4.65648546e-02,  -7.32019315e-02,\n",
       "         -5.05906190e-03,  -2.12011524e-02,  -8.79781655e-02,\n",
       "          7.63019206e-03,   2.56439653e-02,   1.05999595e-01,\n",
       "         -3.63578005e-02,   9.71781111e-03,  -3.06520683e-02,\n",
       "          2.13842818e-02,   3.42421750e-02,   6.42116458e-02,\n",
       "          5.78890974e-02,  -1.21145802e-01,   2.04026550e-02,\n",
       "         -3.69471649e-02,  -7.15934522e-02,  -9.17636551e-02,\n",
       "         -1.83498105e-02,   4.71092486e-02,   1.36970997e-01,\n",
       "          1.21126745e-01,   1.88362940e-01,   1.43933943e-01,\n",
       "          1.00685195e-01,   1.17469822e-01,   1.44753649e-01,\n",
       "          6.93733986e-02,   6.71254978e-02,   1.75246991e-02,\n",
       "          1.26282823e-02,   6.67872340e-03,  -2.99166070e-02,\n",
       "          2.48522126e-02,  -1.29755996e-01,  -2.74360962e-01,\n",
       "         -1.75831883e-01,  -1.24480325e-01,  -1.76265258e-01,\n",
       "         -2.97789662e-01,  -3.04357054e-01,  -1.65175147e-01,\n",
       "         -2.51855124e-01,  -9.85021157e-02,  -2.16897678e-01,\n",
       "         -3.07589490e-01,  -5.68992423e-02,  -1.04609182e-01,\n",
       "          8.73341217e-02,   3.03552742e-03,  -6.30731618e-02,\n",
       "         -3.77277628e-02,  -7.59975102e-02,  -1.08071526e-01,\n",
       "         -1.21721326e-01,  -6.19560875e-02,  -6.94651175e-02,\n",
       "          5.59080383e-02,   5.73048141e-02,   1.28240348e-01,\n",
       "          9.46947850e-03,   1.66996490e-02,  -5.45494294e-03,\n",
       "         -1.03538031e-01,  -1.18923436e-01,  -1.33680315e-01,\n",
       "         -1.28673910e-01,  -7.73018135e-02,  -1.35214410e-02,\n",
       "         -3.58719316e-02,  -6.44989712e-02,  -7.64289002e-02,\n",
       "         -2.26727513e-02,   6.86178103e-02,   1.41348417e-02,\n",
       "          4.52517019e-02,   1.96010279e-01,   9.59678030e-02,\n",
       "         -1.02407619e-02,   1.45720933e-01,   1.40402689e-01,\n",
       "          4.64394888e-02,   1.37184089e-01,  -9.21261259e-03,\n",
       "          9.65131563e-02,   2.46935850e-02,   2.81419093e-02,\n",
       "         -3.57815639e-02,   2.65154053e-02]))"
      ]
     },
     "execution_count": 34,
     "metadata": {},
     "output_type": "execute_result"
    }
   ],
   "source": [
    "pred(td[1], td[2]), AR2.predict(2)\n"
   ]
  },
  {
   "cell_type": "raw",
   "metadata": {},
   "source": []
  },
  {
   "cell_type": "code",
   "execution_count": null,
   "metadata": {
    "collapsed": true
   },
   "outputs": [],
   "source": []
  }
 ],
 "metadata": {
  "anaconda-cloud": {
   "environment": null,
   "summary": "Getting a feeling for AR models",
   "url": "https://anaconda.org/creyesk/ar-model"
  },
  "kernelspec": {
   "display_name": "Python [Root]",
   "language": "python",
   "name": "Python [Root]"
  },
  "language_info": {
   "codemirror_mode": {
    "name": "ipython",
    "version": 3
   },
   "file_extension": ".py",
   "mimetype": "text/x-python",
   "name": "python",
   "nbconvert_exporter": "python",
   "pygments_lexer": "ipython3",
   "version": "3.5.2"
  }
 },
 "nbformat": 4,
 "nbformat_minor": 0
}
