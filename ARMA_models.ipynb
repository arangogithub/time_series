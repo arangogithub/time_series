{
 "cells": [
  {
   "cell_type": "markdown",
   "metadata": {},
   "source": [
    "# Overview of ARIMA models\n",
    "----------------------------------------------"
   ]
  },
  {
   "cell_type": "code",
   "execution_count": 3,
   "metadata": {
    "collapsed": true,
    "scrolled": true
   },
   "outputs": [],
   "source": [
    "%matplotlib inline\n",
    "import numpy as np\n",
    "import matplotlib.pyplot as plt\n",
    "import pandas as pd\n",
    "#import statsmodels as sm\n",
    "import scipy.stats as stats\n",
    "from scipy.ndimage.interpolation import shift\n",
    "import statsmodels.graphics.tsaplots as tsaplots\n",
    "import statsmodels.api as sm\n"
   ]
  },
  {
   "cell_type": "code",
   "execution_count": 131,
   "metadata": {
    "collapsed": true
   },
   "outputs": [],
   "source": [
    "from statsmodels.graphics.api import qqplot"
   ]
  },
  {
   "cell_type": "code",
   "execution_count": 6,
   "metadata": {
    "collapsed": false
   },
   "outputs": [
    {
     "data": {
      "text/plain": [
       "array([2, 3, 4, 5, 0])"
      ]
     },
     "execution_count": 6,
     "metadata": {},
     "output_type": "execute_result"
    }
   ],
   "source": [
    "xs=np.array([1,2,3,4,5])\n",
    "shift(xs,-1)"
   ]
  },
  {
   "cell_type": "markdown",
   "metadata": {},
   "source": [
    "Test para probar actualizacion de datos"
   ]
  },
  {
   "cell_type": "markdown",
   "metadata": {},
   "source": [
    "# AR-2 simulation\n",
    "\n",
    "$$r_{t}= \\phi_0+\\phi_1\\, r_{t-1} + \\phi_2\\, r_{t-2} +a_t,$$  donde $a_t:$ white noise\n"
   ]
  },
  {
   "cell_type": "code",
   "execution_count": 74,
   "metadata": {
    "collapsed": false,
    "scrolled": true
   },
   "outputs": [],
   "source": [
    "nstep = 1000\n",
    "paths = 5\n",
    "phi0 = 0\n",
    "phi1 = 0.2\n",
    "phi2 =  0.4\n",
    "rt = np.random.randn(nstep, paths)\n",
    "at = np.random.randn(nstep, paths)*0.2 # white noise\n",
    "sumt = np.zeros((nstep, paths))\n",
    "for i in range(nstep-2):\n",
    "    rt[i+2] = phi0 + phi1*rt[i+1] +phi2*rt[i] + at[i+2] \n",
    "    sumt[i+1] = sumt[i]+rt[i+2] \n",
    "#plt.plot(rt[:,1])\n"
   ]
  },
  {
   "cell_type": "code",
   "execution_count": 75,
   "metadata": {
    "collapsed": true
   },
   "outputs": [],
   "source": [
    "rtp = pd.DataFrame(rt)\n",
    "atp = pd.DataFrame(at)"
   ]
  },
  {
   "cell_type": "markdown",
   "metadata": {},
   "source": [
    "## Checking autocorrelation"
   ]
  },
  {
   "cell_type": "markdown",
   "metadata": {},
   "source": [
    "Time series rpt[]"
   ]
  },
  {
   "cell_type": "code",
   "execution_count": 77,
   "metadata": {
    "collapsed": true
   },
   "outputs": [],
   "source": [
    "autocorr = np.array([rtp[2].autocorr(lag=i) for i in range(10) ])"
   ]
  },
  {
   "cell_type": "code",
   "execution_count": 78,
   "metadata": {
    "collapsed": false
   },
   "outputs": [
    {
     "data": {
      "image/png": "[encoded data removed]",
      "text/plain": [
       "<matplotlib.figure.Figure at 0x7f80789b6c10>"
      ]
     },
     "metadata": {},
     "output_type": "display_data"
    }
   ],
   "source": [
    "# Autocorrelation according to Pandas\n",
    "plt.figure(figsize=(16,3))\n",
    "plt.stem(autocorr, markerfmt=' ')\n",
    "plt.show()"
   ]
  },
  {
   "cell_type": "code",
   "execution_count": 79,
   "metadata": {
    "collapsed": false
   },
   "outputs": [
    {
     "data": {
      "text/plain": [
       "array([ 1.        ,  0.39238268,  0.50612317,  0.30484332,  0.30603142,\n",
       "        0.221203  ,  0.17995827,  0.10977101,  0.08291312,  0.03219815,\n",
       "        0.01732576])"
      ]
     },
     "execution_count": 79,
     "metadata": {},
     "output_type": "execute_result"
    }
   ],
   "source": [
    "# Autocorrelation according to Statsmodels\n",
    "tsa = sm.tsa\n",
    "tsa.acf(rtp[2], nlags=10)"
   ]
  },
  {
   "cell_type": "raw",
   "metadata": {},
   "source": [
    "Durbin--Watson test https://bicorner.com/2015/11/16/time-series-analysis-using-ipython/?blogsub=confirming#subscribe-blog\n",
    "\n",
    "The Durbin-Watson statistic ranges in value from 0 to 4. A value near 2 indicates non-autocorrelation; a value toward 0 indicates positive autocorrelation; a value toward 4 indicates negative autocorrelation."
   ]
  },
  {
   "cell_type": "code",
   "execution_count": 84,
   "metadata": {
    "collapsed": false
   },
   "outputs": [
    {
     "data": {
      "text/plain": [
       "1.195950589073723"
      ]
     },
     "execution_count": 84,
     "metadata": {},
     "output_type": "execute_result"
    }
   ],
   "source": [
    "sm.stats.durbin_watson(rtp[2])"
   ]
  },
  {
   "cell_type": "markdown",
   "metadata": {},
   "source": [
    "Ljung--Box test"
   ]
  },
  {
   "cell_type": "code",
   "execution_count": 81,
   "metadata": {
    "collapsed": false
   },
   "outputs": [
    {
     "data": {
      "text/plain": [
       "(array([ 154.42652219,  411.61387685,  505.00936931,  599.22878693]),\n",
       " array([  1.86860594e-035,   4.16085234e-090,   3.91792403e-109,\n",
       "          2.27578898e-128]))"
      ]
     },
     "execution_count": 81,
     "metadata": {},
     "output_type": "execute_result"
    }
   ],
   "source": [
    "sm.stats.diagnostic.acorr_ljungbox(rtp[2], 4)"
   ]
  },
  {
   "cell_type": "code",
   "execution_count": 86,
   "metadata": {
    "collapsed": false
   },
   "outputs": [
    {
     "data": {
      "image/png": "[encoded data removed]",
      "text/plain": [
       "<matplotlib.figure.Figure at 0x7f80787a9ad0>"
      ]
     },
     "metadata": {},
     "output_type": "display_data"
    }
   ],
   "source": [
    "fig = plt.figure(figsize=(12,8))\n",
    "ax1 = fig.add_subplot(211)\n",
    "fig = tsaplots.plot_acf(rtp[2].squeeze(), lags=15, ax=ax1)\n",
    "ax2 = fig.add_subplot(212)\n",
    "fig = tsaplots.plot_pacf(rtp[2], lags=15, ax=ax2)"
   ]
  },
  {
   "cell_type": "markdown",
   "metadata": {},
   "source": [
    "# AR Model"
   ]
  },
  {
   "cell_type": "code",
   "execution_count": 89,
   "metadata": {
    "collapsed": false
   },
   "outputs": [
    {
     "data": {
      "text/html": [
       "<table class=\"simpletable\">\n",
       "<caption>ARMA Model Results</caption>\n",
       "<tr>\n",
       "  <th>Dep. Variable:</th>         <td>y</td>        <th>  No. Observations:  </th>   <td>1000</td>  \n",
       "</tr>\n",
       "<tr>\n",
       "  <th>Model:</th>            <td>ARMA(2, 0)</td>    <th>  Log Likelihood     </th>  <td>213.089</td>\n",
       "</tr>\n",
       "<tr>\n",
       "  <th>Method:</th>             <td>css-mle</td>     <th>  S.D. of innovations</th>   <td>0.195</td> \n",
       "</tr>\n",
       "<tr>\n",
       "  <th>Date:</th>          <td>Sun, 11 Sep 2016</td> <th>  AIC                </th> <td>-418.177</td>\n",
       "</tr>\n",
       "<tr>\n",
       "  <th>Time:</th>              <td>19:07:47</td>     <th>  BIC                </th> <td>-398.546</td>\n",
       "</tr>\n",
       "<tr>\n",
       "  <th>Sample:</th>                <td>0</td>        <th>  HQIC               </th> <td>-410.716</td>\n",
       "</tr>\n",
       "<tr>\n",
       "  <th></th>                       <td> </td>        <th>                     </th>     <td> </td>   \n",
       "</tr>\n",
       "</table>\n",
       "<table class=\"simpletable\">\n",
       "<tr>\n",
       "     <td></td>        <th>coef</th>     <th>std err</th>      <th>z</th>      <th>P>|z|</th> <th>[95.0% Conf. Int.]</th> \n",
       "</tr>\n",
       "<tr>\n",
       "  <th>const</th>   <td>   -0.0218</td> <td>    0.018</td> <td>   -1.246</td> <td> 0.213</td> <td>   -0.056     0.013</td>\n",
       "</tr>\n",
       "<tr>\n",
       "  <th>ar.L1.y</th> <td>    0.2287</td> <td>    0.029</td> <td>    7.916</td> <td> 0.000</td> <td>    0.172     0.285</td>\n",
       "</tr>\n",
       "<tr>\n",
       "  <th>ar.L2.y</th> <td>    0.4196</td> <td>    0.029</td> <td>   14.519</td> <td> 0.000</td> <td>    0.363     0.476</td>\n",
       "</tr>\n",
       "</table>\n",
       "<table class=\"simpletable\">\n",
       "<caption>Roots</caption>\n",
       "<tr>\n",
       "    <td></td>   <th>           Real</th> <th>         Imaginary</th> <th>         Modulus</th> <th>        Frequency</th>\n",
       "</tr>\n",
       "<tr>\n",
       "  <th>AR.1</th>               1.2951                    +0.0000j                    1.2951                    0.0000     \n",
       "</tr>\n",
       "<tr>\n",
       "  <th>AR.2</th>              -1.8401                    +0.0000j                    1.8401                    0.5000     \n",
       "</tr>\n",
       "</table>"
      ],
      "text/plain": [
       "<class 'statsmodels.iolib.summary.Summary'>\n",
       "\"\"\"\n",
       "                              ARMA Model Results                              \n",
       "==============================================================================\n",
       "Dep. Variable:                      y   No. Observations:                 1000\n",
       "Model:                     ARMA(2, 0)   Log Likelihood                 213.089\n",
       "Method:                       css-mle   S.D. of innovations              0.195\n",
       "Date:                Sun, 11 Sep 2016   AIC                           -418.177\n",
       "Time:                        19:07:47   BIC                           -398.546\n",
       "Sample:                             0   HQIC                          -410.716\n",
       "                                                                              \n",
       "==============================================================================\n",
       "                 coef    std err          z      P>|z|      [95.0% Conf. Int.]\n",
       "------------------------------------------------------------------------------\n",
       "const         -0.0218      0.018     -1.246      0.213        -0.056     0.013\n",
       "ar.L1.y        0.2287      0.029      7.916      0.000         0.172     0.285\n",
       "ar.L2.y        0.4196      0.029     14.519      0.000         0.363     0.476\n",
       "                                    Roots                                    \n",
       "=============================================================================\n",
       "                 Real           Imaginary           Modulus         Frequency\n",
       "-----------------------------------------------------------------------------\n",
       "AR.1            1.2951           +0.0000j            1.2951            0.0000\n",
       "AR.2           -1.8401           +0.0000j            1.8401            0.5000\n",
       "-----------------------------------------------------------------------------\n",
       "\"\"\""
      ]
     },
     "execution_count": 89,
     "metadata": {},
     "output_type": "execute_result"
    }
   ],
   "source": [
    "#linear regression\n",
    "AR2 = sm.tsa.ARMA(rt[:,2], (2,0)).fit()\n",
    "AR2.summary()"
   ]
  },
  {
   "cell_type": "markdown",
   "metadata": {},
   "source": [
    "## Analyzing the Residuals"
   ]
  },
  {
   "cell_type": "code",
   "execution_count": 126,
   "metadata": {
    "collapsed": true
   },
   "outputs": [],
   "source": [
    "residuals = AR2.resid"
   ]
  },
  {
   "cell_type": "code",
   "execution_count": 128,
   "metadata": {
    "collapsed": false
   },
   "outputs": [
    {
     "data": {
      "text/plain": [
       "NormaltestResult(statistic=1.375918609677024, pvalue=0.50260067802501274)"
      ]
     },
     "execution_count": 128,
     "metadata": {},
     "output_type": "execute_result"
    }
   ],
   "source": [
    "# small p-values indicates that the data is not normally distributed\n",
    "stats.normaltest(residuals)"
   ]
  },
  {
   "cell_type": "code",
   "execution_count": 132,
   "metadata": {
    "collapsed": false
   },
   "outputs": [
    {
     "data": {
      "image/png": "[encoded data removed]",
      "text/plain": [
       "<matplotlib.figure.Figure at 0x7f8078e8f2d0>"
      ]
     },
     "metadata": {},
     "output_type": "display_data"
    }
   ],
   "source": [
    "fig = plt.figure(figsize=(12,8))\n",
    "ax = fig.add_subplot(111)\n",
    "fig = qqplot(residuals, line='q', ax=ax, fit=True)"
   ]
  },
  {
   "cell_type": "code",
   "execution_count": 135,
   "metadata": {
    "collapsed": false
   },
   "outputs": [
    {
     "data": {
      "image/png": "[encoded data removed]",
      "text/plain": [
       "<matplotlib.figure.Figure at 0x7f80788eb090>"
      ]
     },
     "metadata": {},
     "output_type": "display_data"
    }
   ],
   "source": [
    "fig = plt.figure(figsize=(12,8))\n",
    "ax1 = fig.add_subplot(211)\n",
    "fig = tsaplots.plot_acf(residuals, lags=12, ax=ax1)\n",
    "ax2 = fig.add_subplot(212)\n",
    "fig = tsaplots.plot_pacf(residuals, lags=12, ax=ax2)"
   ]
  },
  {
   "cell_type": "code",
   "execution_count": 157,
   "metadata": {
    "collapsed": false
   },
   "outputs": [
    {
     "name": "stdout",
     "output_type": "stream",
     "text": [
      "            AC          Q  Prob(>Q)\n",
      "lag                                \n",
      "1.0  -0.017913   1.014751  0.602074\n",
      "2.0  -0.026270   1.228553  0.746165\n",
      "3.0   0.014585   1.912935  0.751768\n",
      "4.0   0.026082   4.192762  0.522010\n",
      "5.0   0.047580   4.575412  0.599302\n",
      "6.0   0.019483   4.636772  0.704191\n",
      "7.0  -0.007798   4.636785  0.795597\n",
      "8.0  -0.000115   5.066116  0.828507\n",
      "9.0  -0.020606   5.744272  0.836271\n",
      "10.0  0.025885   5.815920  0.885360\n",
      "11.0  0.008409  13.857385  0.309908\n",
      "12.0 -0.089046  16.894153  0.204188\n",
      "13.0 -0.054693  18.471498  0.186142\n",
      "14.0 -0.039397  18.928294  0.217002\n"
     ]
    }
   ],
   "source": [
    "# Notice that the p-values for the Ljung–Box Q test above .05 \n",
    "# indicate “significance.” This is not a desirable result. \n",
    "\n",
    "r,q,p = sm.tsa.acf(residuals, qstat=True)\n",
    "nlags = 15\n",
    "data = np.c_[range(1,nlags), r[1:nlags], q[1:nlags], p[1:nlags]]\n",
    "table = pd.DataFrame(data, columns=['lag', \"AC\", \"Q\", \"Prob(>Q)\"])\n",
    "print table.set_index('lag')"
   ]
  },
  {
   "cell_type": "markdown",
   "metadata": {},
   "source": [
    "## Predictions"
   ]
  },
  {
   "cell_type": "code",
   "execution_count": 176,
   "metadata": {
    "collapsed": false
   },
   "outputs": [
    {
     "name": "stdout",
     "output_type": "stream",
     "text": [
      "[-0.29693672 -0.05707272 -0.170747    0.05060521  0.05870672  0.01077896\n",
      "  0.00766273  0.06990346  0.17157903  0.0189241   0.08663484  0.09337739\n",
      "  0.13629724 -0.03165882 -0.0738893  -0.16255029 -0.22940987 -0.03215191\n",
      "  0.12379606  0.21721991  0.13122322  0.11761053  0.07218761  0.05590247\n",
      " -0.14681077 -0.20802315 -0.1149661  -0.0724927  -0.18949135 -0.33058249\n",
      " -0.2393936  -0.25287973 -0.31564297 -0.27588454 -0.28586649 -0.21444567\n",
      " -0.14250517 -0.02067626  0.04426202 -0.004366   -0.01368732 -0.0598781\n",
      " -0.0497992   0.10612154 -0.05924716  0.07285725 -0.07535016  0.05857253\n",
      "  0.16569774]\n"
     ]
    }
   ],
   "source": [
    "ini, fin = 2, 50\n",
    "reference = range(ini, fin+1)\n",
    "predictions = AR2.predict(ini, fin, dynamic=False)\n",
    "print predictions"
   ]
  },
  {
   "cell_type": "code",
   "execution_count": 178,
   "metadata": {
    "collapsed": false
   },
   "outputs": [
    {
     "data": {
      "text/plain": [
       "[<matplotlib.lines.Line2D at 0x7f8078763d10>]"
      ]
     },
     "execution_count": 178,
     "metadata": {},
     "output_type": "execute_result"
    },
    {
     "data": {
      "image/png": "[encoded data removed]",
      "text/plain": [
       "<matplotlib.figure.Figure at 0x7f8078b3a290>"
      ]
     },
     "metadata": {},
     "output_type": "display_data"
    }
   ],
   "source": [
    "#ax =range(2,5).plot(figsize=(12,8))\n",
    "plt.plot( reference, predictions);\n",
    "plt.plot( reference, rt[ini:fin+1,2],'r--' );\n",
    "#ax.legend();\n",
    "#ax.axis((-20.0, 38.0, -4.0, 200.0));"
   ]
  },
  {
   "cell_type": "code",
   "execution_count": 122,
   "metadata": {
    "collapsed": false
   },
   "outputs": [],
   "source": [
    "pm = AR2.params\n",
    "td= rt[0:3,2]\n",
    "def pred(x,y):\n",
    "    return pm[0]+ pm[1]*y+ pm[2]*x  "
   ]
  },
  {
   "cell_type": "code",
   "execution_count": 123,
   "metadata": {
    "collapsed": false
   },
   "outputs": [
    {
     "data": {
      "text/plain": [
       "-0.31109125425966838"
      ]
     },
     "execution_count": 123,
     "metadata": {},
     "output_type": "execute_result"
    }
   ],
   "source": [
    "pred(td[0], td[1])"
   ]
  },
  {
   "cell_type": "code",
   "execution_count": 115,
   "metadata": {
    "collapsed": false
   },
   "outputs": [
    {
     "name": "stdout",
     "output_type": "stream",
     "text": [
      "[-0.74941376  0.1102569  -0.41827977]\n"
     ]
    }
   ],
   "source": [
    "print td"
   ]
  },
  {
   "cell_type": "code",
   "execution_count": 119,
   "metadata": {
    "collapsed": false
   },
   "outputs": [
    {
     "data": {
      "text/plain": [
       "array([-0.29693672, -0.05707272])"
      ]
     },
     "execution_count": 119,
     "metadata": {},
     "output_type": "execute_result"
    }
   ],
   "source": [
    "pred(td[0], td[1])\n",
    "AR2.predict(2,3)\n"
   ]
  },
  {
   "cell_type": "raw",
   "metadata": {},
   "source": []
  },
  {
   "cell_type": "code",
   "execution_count": null,
   "metadata": {
    "collapsed": true
   },
   "outputs": [],
   "source": []
  }
 ],
 "metadata": {
  "anaconda-cloud": {
   "environment": null,
   "summary": "Getting a feeling for AR models",
   "url": "https://anaconda.org/creyesk/ar-model"
  },
  "kernelspec": {
   "display_name": "Python 2",
   "language": "python",
   "name": "python2"
  },
  "language_info": {
   "codemirror_mode": {
    "name": "ipython",
    "version": 2
   },
   "file_extension": ".py",
   "mimetype": "text/x-python",
   "name": "python",
   "nbconvert_exporter": "python",
   "pygments_lexer": "ipython2",
   "version": "2.7.11"
  }
 },
 "nbformat": 4,
 "nbformat_minor": 0
}
